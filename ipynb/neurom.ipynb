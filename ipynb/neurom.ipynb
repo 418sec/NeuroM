{
 "cells": [
  {
   "cell_type": "markdown",
   "metadata": {},
   "source": [
    "<center><h1>NeuroM Demo Instructions</h1></center>\n",
    "\n",
    "<h2>0. Credit</h2>\n",
    "<p>If you use NeuroM for your (published) work, please add a reference to our work:\n",
    "\n",
    "Juan Palacios, Lida Kanari, Guy Atenekeng, Liesbeth Vanherpe, Julian Shillcock, EPFL,\n",
    "NeuroM -  https://github.com/BlueBrain/NeuroM.git.</p>"
   ]
  },
  {
   "cell_type": "markdown",
   "metadata": {},
   "source": [
    "<h2>1. Installation</h2>\n",
    "NeuroM supports Linux and OS X. Windows users are advised to use [VirtualBox](https://www.virtualbox.org/)\n",
    "\n",
    "It is assumed that the following packages are installed on your system:\n",
    "\n",
    "* Python 2.7\n",
    "* numpy >= 1.8.0\n",
    "* scipy\n",
    "* h5py >= 2.2.1 \n",
    "* matplotlib >= 1.3.1\n",
    "* ipython\n",
    "* pip\n",
    "* virtualenv\n",
    "* git\n",
    "\n",
    "These are available as packages in most Linux distributions. For OS X, please refer to [MacPorts](http://www.macports.org/) if you don’t already use a different package manager.\n",
    "\n",
    "<h3> 1.1 Virtualenv set-up </h3>\n",
    "\n",
    "<code>\n",
    "$ virtualenv --system-site-packages nrm    # creates a virtualenv called \"nrm\" in nrm directory\n",
    "$ source nrm/bin/activate                  # activates virtualenv\n",
    "(nrm)$                                     # now we are in the nrm virtualenv\n",
    "</code>\n",
    "\n",
    "The prompt indicates that the virtualenv has been activated. To de-activate it,\n",
    "\n",
    "<code>\n",
    "(nrm)$ deactivate\n",
    "</code>\n",
    "\n",
    "<h3> 1.2 Installation </h3>\n",
    "\n",
    "(nrm)$ git clone https://github.com/BlueBrain/NeuroM.git\n",
    "\n",
    "(nrm)$ pip install -e ./NeuroM              # the -e flag makes source changes immediately effective"
   ]
  },
  {
   "cell_type": "markdown",
   "metadata": {},
   "source": [
    "<h2> 2. Basic Examples </h2>\n",
    "\n",
    "<h3>2.1 Check the validity of a morphology file </h3>\n",
    "\n",
    "The application \"morph_check\" allows you to apply semantic checks to a morphology file before loading it into NeuroM.\n",
    "\n",
    "<code>\n",
    "(nrm)$ morph_check -h                       # shows help for the script to check a morphology\n",
    "</code>\n",
    "\n",
    "Try it yourself! You can go to [NeuroMorpho](http://neuromorpho.org) to download a neuronal morphology and perform the semantic checks.\n",
    "\n",
    "<code>\n",
    "(nrm)$ morph_check  path/to/file/filename\n",
    "<code>\n",
    "\n",
    "<h3>2.2 Extract basic morphometrics of a sample morphology </h3>\n",
    "\n",
    "Let's start by running an example of basic measurement extraction:\n",
    "\n",
    "<code>\n",
    "(nrm)$ cd NeuroM\n",
    "(nrm)$ python examples/ezy.py\n",
    "</code>\n",
    "\n",
    "<h3>2.3 The neurom.ezy module</h3>\n",
    "\n",
    "The neurom.ezy module contains a Neuron class and helper functions that allow to easily load neuron morphologies from files into NeuroM data structures. It also provides convenient methods to query various properties of the neurons.\n",
    "\n",
    "Open the interactive python terminal:\n",
    "\n",
    "<code>\n",
    "(nrm)$ ipython –pylab\n",
    "</code>\n",
    "\n",
    "If this gives a warning \"Attempting to work in a virtualenv …\",  ipython can be pip-installed inside the virtualenv but this must override the system ipython:\n",
    "\n",
    "<code>\n",
    "(nrm)$ pip install -I ipython\n",
    "<code>\n",
    "\n",
    "Now you can try and use the neurom.ezy functionality! We will start by loading and visualizing neuronal morphologies. Next, we will extract basic morphometrics."
   ]
  },
  {
   "cell_type": "code",
   "execution_count": 3,
   "metadata": {
    "collapsed": false
   },
   "outputs": [],
   "source": [
    "%matplotlib inline\n",
    "# import ezy module of NeuroM\n",
    "from neurom import ezy"
   ]
  },
  {
   "cell_type": "code",
   "execution_count": 6,
   "metadata": {
    "collapsed": false
   },
   "outputs": [],
   "source": [
    "# load a neuron from an swc or h5 file\n",
    "neuron = ezy.load_neuron('../test_data/valid_set/Neuron.swc')"
   ]
  },
  {
   "cell_type": "code",
   "execution_count": null,
   "metadata": {
    "collapsed": false
   },
   "outputs": [],
   "source": [
    "# visualize neuron in two dimensions\n",
    "ezy.view(neuron)"
   ]
  },
  {
   "cell_type": "code",
   "execution_count": null,
   "metadata": {
    "collapsed": false
   },
   "outputs": [],
   "source": [
    "# in three dimensions\n",
    "ezy.view3d(neuron)"
   ]
  },
  {
   "cell_type": "markdown",
   "metadata": {},
   "source": [
    "<b>Feature Extraction</b>"
   ]
  },
  {
   "cell_type": "code",
   "execution_count": null,
   "metadata": {
    "collapsed": false
   },
   "outputs": [],
   "source": [
    "# Extract the number of neurites (basal and apical dendrites, and axons)\n",
    "number_of_neurites = neuron.get_n_neurites()\n",
    "\n",
    "# Extract the number of sections\n",
    "number_of_sections = neuron.get_n_sections()\n",
    "\n",
    "# Extract soma size\n",
    "soma_radius = neuron.get_soma_radius()\n",
    "\n",
    "# Extract the number of sections per neurite\n",
    "number_of_sections_per_neurite = neuron.get_n_sections_per_neurite()\n",
    "\n",
    "# printing\n",
    "print \" Neuron id          : {0} \\n \\\n",
    "Number of neurites : {1} \\n \\\n",
    "Soma Radius        : {2:.2f} \\n \\\n",
    "Number of sections : {4}\".format(neuron.name, number_of_neurites, soma_radius, number_of_neurites, number_of_sections)\n",
    "\n",
    "print\n",
    "print \"Neurite type \\t\\t\\t| Number of sections\"\n",
    "\n",
    "for i, neurite in enumerate(neuron.neurites):\n",
    "    \n",
    "    print \"{0:31} | {1}\".format(str(neurite.type), number_of_sections_per_neurite[i])"
   ]
  },
  {
   "cell_type": "markdown",
   "metadata": {
    "collapsed": false
   },
   "source": [
    "<b>In following block, features with list output are calculated,</b>"
   ]
  },
  {
   "cell_type": "code",
   "execution_count": null,
   "metadata": {
    "collapsed": false,
    "scrolled": true
   },
   "outputs": [],
   "source": [
    "# Extract the lengths of the sections\n",
    "section_lengths = neuron.get_section_lengths ()\n",
    "\n",
    "# Extract the lengths of the segments\n",
    "segment_lengths = neuron.get_segment_lengths ()\n",
    "\n",
    "# Extract the local bifurcation angles\n",
    "local_bif_angles = neuron.get_local_bifurcation_angles()\n",
    "\n",
    "# Extract the remote bifurcation angles\n",
    "remote_bif_angles = neuron.get_remote_bifurcation_angles()\n",
    "\n",
    "# Extract the path distances of sections\n",
    "section_path_distances = neuron.get_section_path_distances ()\n",
    "\n",
    "# Extract the radial distances of sections\n",
    "section_radial_distances = neuron.get_section_radial_distances ()\n",
    "\n",
    "# printing\n",
    "\n",
    "\n",
    "features = (segment_lengths, section_lengths, local_bif_angles, \n",
    "            remote_bif_angles, section_path_distances, section_radial_distances)\n",
    "\n",
    "def check(feature_list, n): \n",
    "    return  '{0:.2f}'.format(feature_list[n]) if n < len(feature_list) else ''\n",
    "\n",
    "print '|sg_len|sc_len|lc_bif_angles|rm_bif_angles|sc_path_dists|sc_rad_dists|'\n",
    "\n",
    "n = 0\n",
    "finished = False\n",
    "while not finished:\n",
    "    \n",
    "    args = (check(f, n) for f in features)\n",
    "    \n",
    "    print '|{0:^6}|{1:^6}|{2:^13}|{3:^13}|{4:^13}|{5:^12}|'.format(*args)\n",
    "    \n",
    "    n += 1\n",
    "    if n == 50: finished = True\n"
   ]
  },
  {
   "cell_type": "markdown",
   "metadata": {},
   "source": [
    "In order to visualize the output of the features above, we will need a histogram function,"
   ]
  },
  {
   "cell_type": "markdown",
   "metadata": {
    "collapsed": true
   },
   "source": [
    "<h1>3. More Examples </h1>\n",
    "\n",
    "<h2> 3.1 Analyze different type of trees </h2>\n",
    "\n",
    "The previous examples treated all neurites in the same way. The ezy module allows you to extract morphometrics for a selected type of trees."
   ]
  },
  {
   "cell_type": "code",
   "execution_count": null,
   "metadata": {
    "collapsed": false
   },
   "outputs": [],
   "source": [
    "# Extract the section lengths of axonal trees\n",
    "ax_section_lengths = neuron.get_section_lengths (neurite_type=ezy.TreeType.axon)\n",
    "\n",
    "# Extract the section lengths of basal dendrite trees\n",
    "ba_section_lengths = neuron.get_section_lengths (neurite_type=ezy.TreeType.basal_dendrite)\n",
    "\n",
    "# Extract the section lengths of apical dendrite trees\n",
    "ap_section_lengths = neuron.get_section_lengths (neurite_type=ezy.TreeType.apical_dendrite)\n",
    "\n",
    "print 'axonal ', ax_section_lengths\n",
    "print 'basal ', ba_section_lengths\n",
    "print 'apical ', ap_section_lengths"
   ]
  },
  {
   "cell_type": "markdown",
   "metadata": {},
   "source": [
    "<h2> 3.2 Perform statistical analysis on extracted measurements </h2>\n",
    "\n",
    "Now we are ready to extract basic statistical measurements, using common Python functions. For this, we will use [numpy](http://www.numpy.org/), which is a package for scientific computing with Python.\n",
    "\n"
   ]
  },
  {
   "cell_type": "code",
   "execution_count": null,
   "metadata": {
    "collapsed": false
   },
   "outputs": [],
   "source": [
    "import numpy as np\n",
    "\n",
    "# Now we can get the mean section length\n",
    "mean_sl = np.mean(section_lengths)\n",
    "\n",
    "# We can get the standard deviation of section lengths\n",
    "std_sl = np.std(section_lengths)\n",
    "\n",
    "# We can get the minimum section length\n",
    "min_sl = np.min(section_lengths)\n",
    "\n",
    "# … and the maximum section length\n",
    "max_sl = np.max(section_lengths)\n",
    "\n",
    "print 'Section Lengths stats : \\n'\n",
    "print '\\tmean = {0:.2f} +- {1:.2f}'.format(mean_sl, std_sl)\n",
    "print '\\t[min, max] : [{0:.2f}, {1:.2f}]'.format(min_sl, max_sl)"
   ]
  },
  {
   "cell_type": "markdown",
   "metadata": {},
   "source": [
    "<h2> 3.3 Generate plots from the extracted morphometrics </h2>\n",
    "\n",
    "The distribution of the extracted measurements can be plotted with [matplotlib](http://matplotlib.org/), which is a Python library for plot generation. The python module that we will use is pylab ([basic tutorial](http://jakevdp.github.io/mpl_tutorial/tutorial_pages/tut1.html)). Pylab is automatically available when using ipython --pylab. Otherwise, one has to import it explicitly and prepend the plot commands with the prefix used in the import statement.\n",
    "\n",
    "First we will create two functions, histogram and boxplot, which can be found in the examples folder"
   ]
  },
  {
   "cell_type": "code",
   "execution_count": null,
   "metadata": {
    "collapsed": false
   },
   "outputs": [],
   "source": [
    "from neurom.view import common\n",
    "\n",
    "def histogram(neuron, feature, bins=25, normed=False, cumulative=False, new_fig=True, subplot=False, **kwargs):\n",
    "\n",
    "    fig, ax = common.get_figure(new_fig=new_fig, subplot=subplot)\n",
    "\n",
    "    # concatenate the string 'get_' with a feature to generate the respective function's name\n",
    "    feature_values = getattr(neuron, 'get_' + feature)()\n",
    "\n",
    "    # generate histogram\n",
    "    ax.hist(feature_values, bins=bins, cumulative=cumulative, normed=normed)\n",
    "\n",
    "    return common.plot_style(fig=fig, ax=ax, **kwargs)\n",
    "\n",
    "def boxplot(neuron, feature, new_fig=True, subplot=False, **kwargs):\n",
    "    \n",
    "    # concatenate the string 'get_' with a feature to generate the respective function's name\n",
    "    feature_values = getattr(neuron, 'get_' + feature)()\n",
    "\n",
    "    # create figure or use the existing one\n",
    "    fig, ax = common.get_figure(new_fig=new_fig, subplot=subplot)\n",
    "\n",
    "    # boxplot function\n",
    "    ax.boxplot(feature_values)\n",
    "    \n",
    "    return common.plot_style(fig=fig, ax=ax, **kwargs)"
   ]
  },
  {
   "cell_type": "markdown",
   "metadata": {},
   "source": []
  },
  {
   "cell_type": "code",
   "execution_count": null,
   "metadata": {
    "collapsed": false
   },
   "outputs": [],
   "source": [
    "import pylab as plt\n",
    "\n",
    "# select the feature of choice\n",
    "feature = 'segment_lengths'\n",
    "\n",
    "# create empty figure\n",
    "plt.figure(figsize=(11,3))\n",
    "\n",
    "# kwargs dictionary is used by plot_style to propagate the options\n",
    "# in the figure. These kwargs can also be passed directly in kwargs)\n",
    "xlabel = ''\n",
    "ylabel = ''\n",
    "title = ''\n",
    "\n",
    "# figure is automatically used from the plot function if and only if new_fig=False\n",
    "# otherwise a new figure will be created\n",
    "histogram(neuron, feature, normed=True, new_fig=False, subplot=131, xlabel=xlabel, ylabel=ylabel, title=title)\n",
    "\n",
    "# toggle cumulative=True for cumulative histogram\n",
    "histogram(neuron, feature, cumulative=True, normed=True, new_fig=False, subplot=132, xlabel=xlabel, ylabel=ylabel, title=title)\n",
    "\n",
    "# create boxplot\n",
    "boxplot(neuron, feature, new_fig=False, subplot=133, xlabel=xlabel, ylabel=ylabel, title=title)\n",
    "\n",
    "# fix layout for better visualization\n",
    "plt.tight_layout()"
   ]
  },
  {
   "cell_type": "markdown",
   "metadata": {},
   "source": [
    "<h2>3.4 Fit the extracted data with a statistical distribution</h2>\n",
    "\n",
    "Now we are ready to fit the extracted data using common Python functions. For this, we will use [scipy](http://www.scipy.org/), which is a package for numerical routines for scientific computing with Python."
   ]
  },
  {
   "cell_type": "code",
   "execution_count": null,
   "metadata": {
    "collapsed": false
   },
   "outputs": [],
   "source": [
    "from neurom import stats\n",
    "\n",
    "feature = 'segment_lengths'\n",
    "\n",
    "data = getattr(neuron, 'get_' + feature)()\n",
    "\n",
    "# Let’s start with a normal distribution. We will fit the data (here we use section_lengths) that we\n",
    "# computed above with a normal distribution\n",
    "p = stats.fit(data, distribution='norm')\n",
    "\n",
    "# The output of the function is a named tuple called FitResults\n",
    "print 'Fit output type : ', type(p)\n",
    "\n",
    "# the parameters are stored in the variable params which in the case of the normal distribution\n",
    "# stores the mu and sigma of the normal distribution\n",
    "mu, sigma = p.params\n",
    "ks_dist, pvalue = p.errs\n",
    "\n",
    "# Print the results \n",
    "print '[mu, sigma] : [{0:.2f}, {1:.2f}]\\n'.format(mu, sigma)\n",
    "\n",
    "# We need to check the statistical error of the performed fit to evaluate the accuracy of the \n",
    "# selected model. To do so we use the errors variable of FitResults, namely,\n",
    "print 'Kolmogorov-Smirnof distance : {0:.2f}'.format(ks_dist)\n",
    "print 'P-value : {0:.2f}'.format(pvalue)"
   ]
  },
  {
   "cell_type": "markdown",
   "metadata": {},
   "source": [
    "Which can be visualized:"
   ]
  },
  {
   "cell_type": "code",
   "execution_count": null,
   "metadata": {
    "collapsed": false,
    "scrolled": true
   },
   "outputs": [],
   "source": [
    "from scipy.stats import norm\n",
    "\n",
    "# make a histogram as above\n",
    "fig, ax = histogram(neuron, feature, new_fig=True, normed=True, xlabel='', ylabel='', title='')\n",
    "\n",
    "# normal range 5 standard deviations aroung its mean\n",
    "norm_range = np.arange(mu - 5.*sigma, mu + 5.*sigma, 0.001)\n",
    "\n",
    "# plot the normal pdf with the given range, mu and sigma\n",
    "ax.plot(norm_range, norm.pdf(norm_range, mu, sigma), linewidth=3., c='r', alpha=0.8)\n",
    "\n",
    "plt.tight_layout()"
   ]
  },
  {
   "cell_type": "markdown",
   "metadata": {},
   "source": [
    "It is also possible to find the optimal distribution that best fits the data, among a number of distributions that are\n",
    "supported by scipy. For instance,"
   ]
  },
  {
   "cell_type": "code",
   "execution_count": null,
   "metadata": {
    "collapsed": false
   },
   "outputs": [],
   "source": [
    "p = stats.optimal_distribution(data, distr_to_check=('lognorm', 'logistic', 'norm'))\n",
    "\n",
    "print p"
   ]
  },
  {
   "cell_type": "markdown",
   "metadata": {},
   "source": [
    "<h2>3.5 Apply more advanced manipulation on extracted data</h2>\n",
    "\n",
    "For example extract the section lengths above a selected threshold (>10)"
   ]
  },
  {
   "cell_type": "code",
   "execution_count": null,
   "metadata": {
    "collapsed": false
   },
   "outputs": [],
   "source": [
    "# Get the ids of section lengths above the threshold\n",
    "selected_ids = np.where(section_lengths > 10)\n",
    "\n",
    "# Get the values of section lengths above the threshold\n",
    "section_lengths[selected_ids]"
   ]
  },
  {
   "cell_type": "markdown",
   "metadata": {},
   "source": [
    "<h2>3.6 Combine morphometrics</h2>\n",
    "\n",
    "We can study relations between different morphometrics. For example, we can combine section length and path length to soma,"
   ]
  },
  {
   "cell_type": "code",
   "execution_count": null,
   "metadata": {
    "collapsed": true
   },
   "outputs": [],
   "source": [
    "# Get section length\n",
    "section_lengths = neuron.get_section_lengths ()\n",
    "\n",
    "# Get path distance to soma\n",
    "section_path_distances = neuron.get_section_path_distances ()\n",
    "\n",
    "# Get the length of all sections with a path distance between 0.0 and 60.0\n",
    "section_indices = np.where((section_path_distances < 60.0) & (section_path_distances >= 0.0))\n",
    "selected_section_lengths = section_lengths[section_indices]"
   ]
  },
  {
   "cell_type": "code",
   "execution_count": null,
   "metadata": {
    "collapsed": true
   },
   "outputs": [],
   "source": []
  }
 ],
 "metadata": {
  "kernelspec": {
   "display_name": "Python 2",
   "language": "python",
   "name": "python2"
  },
  "language_info": {
   "codemirror_mode": {
    "name": "ipython",
    "version": 2
   },
   "file_extension": ".py",
   "mimetype": "text/x-python",
   "name": "python",
   "nbconvert_exporter": "python",
   "pygments_lexer": "ipython2",
   "version": "2.7.10"
  }
 },
 "nbformat": 4,
 "nbformat_minor": 0
}
